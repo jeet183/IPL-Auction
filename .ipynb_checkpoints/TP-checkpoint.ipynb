{
 "cells": [
  {
   "cell_type": "code",
   "execution_count": 45,
   "id": "urban-mount",
   "metadata": {},
   "outputs": [],
   "source": [
    "import pandas as pd\n",
    "from ipywidgets import interact,widgets"
   ]
  },
  {
   "cell_type": "markdown",
   "id": "charitable-decade",
   "metadata": {},
   "source": [
    "# Batsmen"
   ]
  },
  {
   "cell_type": "code",
   "execution_count": 46,
   "id": "measured-tuner",
   "metadata": {},
   "outputs": [],
   "source": [
    "batsmen = pd.read_csv(\"IPL Auction Player Planning - Batsmen.csv\")"
   ]
  },
  {
   "cell_type": "code",
   "execution_count": 47,
   "id": "fresh-tiger",
   "metadata": {},
   "outputs": [],
   "source": [
    "columns = ['Overall Rating','Bat ppl bonus','Bowl ppl bonus','Bat mid bonus','Bowl mid bonus','Bat death bonus','Bowl death bonus']\n",
    "teams = list(batsmen['Team'].unique())\n",
    "teams.insert(0,'All')"
   ]
  },
  {
   "cell_type": "code",
   "execution_count": 48,
   "id": "narrow-jungle",
   "metadata": {},
   "outputs": [],
   "source": [
    " def manipulate_batsmen_table(sort_column,team,n):\n",
    "        if team!='ALL':\n",
    "            new_batsmen = batsmen[batsmen['Team']==team]\n",
    "        \n",
    "        return new_batsmen.sort_values(sort_column,ascending=[False]).head(n).style.hide_index()\n",
    "                                                                               \n",
    "        "
   ]
  },
  {
   "cell_type": "code",
   "execution_count": 49,
   "id": "prescription-dictionary",
   "metadata": {},
   "outputs": [
    {
     "data": {
      "application/vnd.jupyter.widget-view+json": {
       "model_id": "8635cdedc0e8405189c6fa10fbbf99e7",
       "version_major": 2,
       "version_minor": 0
      },
      "text/plain": [
       "interactive(children=(Dropdown(description='sort_column', options=('Overall Rating', 'Bat ppl bonus', 'Bowl pp…"
      ]
     },
     "metadata": {},
     "output_type": "display_data"
    }
   ],
   "source": [
    "interact(manipulate_batsmen_table,sort_column=columns,team= teams,n=widgets.IntSlider(value=5,min=1,max=10)); "
   ]
  },
  {
   "cell_type": "markdown",
   "id": "southeast-beginning",
   "metadata": {},
   "source": [
    "# Bowlers"
   ]
  },
  {
   "cell_type": "code",
   "execution_count": 50,
   "id": "hollow-davis",
   "metadata": {},
   "outputs": [],
   "source": [
    "bowlers = pd.read_csv(\"IPL Auction Player Planning - Bowlers.csv\")"
   ]
  },
  {
   "cell_type": "code",
   "execution_count": 53,
   "id": "provincial-petite",
   "metadata": {},
   "outputs": [],
   "source": [
    " def manipulate_bowlers_table(sort_column,team,n):\n",
    "        if team!='ALL':\n",
    "            new_bowlers = bowlers[bowlers['Team']==team]\n",
    "        \n",
    "        return new_bowlers.sort_values(sort_column,ascending=[False]).head(n).style.hide_index()\n",
    "                                                                               \n",
    "        "
   ]
  },
  {
   "cell_type": "code",
   "execution_count": 54,
   "id": "worst-yeast",
   "metadata": {},
   "outputs": [
    {
     "data": {
      "application/vnd.jupyter.widget-view+json": {
       "model_id": "9f46d23eb8a24011afae95f6a45061bd",
       "version_major": 2,
       "version_minor": 0
      },
      "text/plain": [
       "interactive(children=(Dropdown(description='sort_column', options=('Overall Rating', 'Bat ppl bonus', 'Bowl pp…"
      ]
     },
     "metadata": {},
     "output_type": "display_data"
    }
   ],
   "source": [
    "interact(manipulate_bowlers_table,sort_column=columns,team= teams,n=widgets.IntSlider(value=5,min=1,max=10)); "
   ]
  },
  {
   "cell_type": "markdown",
   "id": "separate-banks",
   "metadata": {},
   "source": [
    "# All Rounders"
   ]
  },
  {
   "cell_type": "code",
   "execution_count": 58,
   "id": "mysterious-prisoner",
   "metadata": {},
   "outputs": [],
   "source": [
    "all_rounders = pd.read_csv(\"IPL Auction Player Planning - All Rounders.csv\")"
   ]
  },
  {
   "cell_type": "code",
   "execution_count": 60,
   "id": "electric-kitchen",
   "metadata": {},
   "outputs": [],
   "source": [
    "all_rounders.columns = all_rounders.columns.str.replace('\\n','')"
   ]
  },
  {
   "cell_type": "code",
   "execution_count": 61,
   "id": "registered-colombia",
   "metadata": {},
   "outputs": [],
   "source": [
    " def manipulate_all_rounders_table(sort_column,team,n):\n",
    "        if team!='ALL':\n",
    "            new_all_rounders = all_rounders[all_rounders['Team']==team]\n",
    "        \n",
    "        return new_all_rounders.sort_values(sort_column,ascending=[False]).head(n).style.hide_index()\n",
    "                                                                               \n",
    "        "
   ]
  },
  {
   "cell_type": "code",
   "execution_count": 62,
   "id": "south-sapphire",
   "metadata": {},
   "outputs": [
    {
     "data": {
      "application/vnd.jupyter.widget-view+json": {
       "model_id": "5c82aacc173543e498a67e190794e970",
       "version_major": 2,
       "version_minor": 0
      },
      "text/plain": [
       "interactive(children=(Dropdown(description='sort_column', options=('Overall Rating', 'Bat ppl bonus', 'Bowl pp…"
      ]
     },
     "metadata": {},
     "output_type": "display_data"
    }
   ],
   "source": [
    "interact(manipulate_all_rounders_table,sort_column=columns,team= teams,n=widgets.IntSlider(value=5,min=1,max=10)); "
   ]
  },
  {
   "cell_type": "markdown",
   "id": "solar-hollow",
   "metadata": {},
   "source": [
    "# Uncapped"
   ]
  },
  {
   "cell_type": "code",
   "execution_count": 63,
   "id": "criminal-alert",
   "metadata": {},
   "outputs": [],
   "source": [
    "uncapped = pd.read_csv(\"IPL Auction Player Planning - Uncapped.csv\")"
   ]
  },
  {
   "cell_type": "code",
   "execution_count": 65,
   "id": "ranking-handbook",
   "metadata": {},
   "outputs": [],
   "source": [
    "uncapped.columns = uncapped.columns.str.replace('\\n','')"
   ]
  },
  {
   "cell_type": "code",
   "execution_count": 66,
   "id": "dominican-robinson",
   "metadata": {},
   "outputs": [],
   "source": [
    " def manipulate_uncapped_table(sort_column,team,n):\n",
    "        if team!='ALL':\n",
    "            new_uncapped = uncapped[uncapped['Team']==team]\n",
    "        \n",
    "        return new_uncapped.sort_values(sort_column,ascending=[False]).head(n).style.hide_index()\n",
    "                                                                               \n",
    "        "
   ]
  },
  {
   "cell_type": "code",
   "execution_count": 68,
   "id": "difficult-proposition",
   "metadata": {},
   "outputs": [
    {
     "data": {
      "application/vnd.jupyter.widget-view+json": {
       "model_id": "6f9922dd942840bcbbcd71a5e3577b11",
       "version_major": 2,
       "version_minor": 0
      },
      "text/plain": [
       "interactive(children=(Dropdown(description='sort_column', options=('Overall Rating', 'Bat ppl bonus', 'Bowl pp…"
      ]
     },
     "metadata": {},
     "output_type": "display_data"
    }
   ],
   "source": [
    "interact(manipulate_uncapped_table,sort_column=columns,team= teams,n=widgets.IntSlider(value=5,min=1,max=10)); "
   ]
  }
 ],
 "metadata": {
  "kernelspec": {
   "display_name": "Python 3",
   "language": "python",
   "name": "python3"
  },
  "language_info": {
   "codemirror_mode": {
    "name": "ipython",
    "version": 3
   },
   "file_extension": ".py",
   "mimetype": "text/x-python",
   "name": "python",
   "nbconvert_exporter": "python",
   "pygments_lexer": "ipython3",
   "version": "3.8.7"
  }
 },
 "nbformat": 4,
 "nbformat_minor": 5
}
