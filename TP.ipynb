{
 "cells": [
  {
   "cell_type": "code",
   "execution_count": 42,
   "id": "urban-mount",
   "metadata": {},
   "outputs": [],
   "source": [
    "import pandas as pd\n",
    "from ipywidgets import interact,widgets"
   ]
  },
  {
   "cell_type": "markdown",
   "id": "charitable-decade",
   "metadata": {},
   "source": [
    "# Batsmen"
   ]
  },
  {
   "cell_type": "code",
   "execution_count": 43,
   "id": "measured-tuner",
   "metadata": {},
   "outputs": [],
   "source": [
    "batsmen = pd.read_csv(\"IPL Auction Player Planning - Batsmen.csv\")"
   ]
  },
  {
   "cell_type": "code",
   "execution_count": 44,
   "id": "fresh-tiger",
   "metadata": {},
   "outputs": [],
   "source": [
    "columns = ['Overall Rating','Bat ppl bonus','Bowl ppl bonus','Bat mid bonus','Bowl mid bonus','Bat death bonus','Bowl death bonus']\n",
    "teams = list(batsmen['Team'].unique())\n",
    "teams.insert(0,'ALL')"
   ]
  },
  {
   "cell_type": "code",
   "execution_count": 45,
   "id": "narrow-jungle",
   "metadata": {},
   "outputs": [],
   "source": [
    " def manipulate_batsmen_table(sort_column,team,n):\n",
    "        if team!='ALL':\n",
    "            new_batsmen = batsmen[batsmen['Team']==team]\n",
    "        else:\n",
    "            new_batsmen = batsmen.copy()\n",
    "        \n",
    "        return new_batsmen.sort_values(sort_column,ascending=[False]).head(n).style.hide_index()\n",
    "                                                                               \n",
    "        "
   ]
  },
  {
   "cell_type": "code",
   "execution_count": 47,
   "id": "prescription-dictionary",
   "metadata": {},
   "outputs": [
    {
     "data": {
      "application/vnd.jupyter.widget-view+json": {
       "model_id": "95b97aebda1543449d3b583d574ba755",
       "version_major": 2,
       "version_minor": 0
      },
      "text/plain": [
       "interactive(children=(Dropdown(description='sort_column', options=('Overall Rating', 'Bat ppl bonus', 'Bowl pp…"
      ]
     },
     "metadata": {},
     "output_type": "display_data"
    }
   ],
   "source": [
    "interact(manipulate_batsmen_table,sort_column=columns,team= teams,n=widgets.IntSlider(value=10,min=1,max=len(batsmen))); "
   ]
  },
  {
   "cell_type": "markdown",
   "id": "southeast-beginning",
   "metadata": {},
   "source": [
    "# Bowlers"
   ]
  },
  {
   "cell_type": "code",
   "execution_count": 31,
   "id": "hollow-davis",
   "metadata": {},
   "outputs": [],
   "source": [
    "bowlers = pd.read_csv(\"IPL Auction Player Planning - Bowlers.csv\")"
   ]
  },
  {
   "cell_type": "code",
   "execution_count": 32,
   "id": "provincial-petite",
   "metadata": {},
   "outputs": [],
   "source": [
    " def manipulate_bowlers_table(sort_column,team,n):\n",
    "        if team!='ALL':\n",
    "            new_bowlers = bowlers[bowlers['Team']==team]\n",
    "        else:\n",
    "            new_bowlers = bowlers.copy()\n",
    "        \n",
    "        return new_bowlers.sort_values(sort_column,ascending=[False]).head(n).style.hide_index()\n",
    "                                                                               \n",
    "        "
   ]
  },
  {
   "cell_type": "code",
   "execution_count": 49,
   "id": "worst-yeast",
   "metadata": {},
   "outputs": [
    {
     "data": {
      "application/vnd.jupyter.widget-view+json": {
       "model_id": "8e6034cd071a42d0a80ca1e932cafce3",
       "version_major": 2,
       "version_minor": 0
      },
      "text/plain": [
       "interactive(children=(Dropdown(description='sort_column', options=('Overall Rating', 'Bat ppl bonus', 'Bowl pp…"
      ]
     },
     "metadata": {},
     "output_type": "display_data"
    }
   ],
   "source": [
    "interact(manipulate_bowlers_table,sort_column=columns,team= teams,n=widgets.IntSlider(value=10,min=1,max=len(bowlers))); "
   ]
  },
  {
   "cell_type": "markdown",
   "id": "separate-banks",
   "metadata": {},
   "source": [
    "# All Rounders"
   ]
  },
  {
   "cell_type": "code",
   "execution_count": 34,
   "id": "mysterious-prisoner",
   "metadata": {},
   "outputs": [],
   "source": [
    "all_rounders = pd.read_csv(\"IPL Auction Player Planning - All Rounders.csv\")"
   ]
  },
  {
   "cell_type": "code",
   "execution_count": 35,
   "id": "electric-kitchen",
   "metadata": {},
   "outputs": [],
   "source": [
    "all_rounders.columns = all_rounders.columns.str.replace('\\n','')"
   ]
  },
  {
   "cell_type": "code",
   "execution_count": 36,
   "id": "registered-colombia",
   "metadata": {},
   "outputs": [],
   "source": [
    " def manipulate_all_rounders_table(sort_column,team,n):\n",
    "        if team!='ALL':\n",
    "            new_all_rounders = all_rounders[all_rounders['Team']==team]\n",
    "        else:\n",
    "            new_all_rounders = all_rounders.copy()\n",
    "        \n",
    "        return new_all_rounders.sort_values(sort_column,ascending=[False]).head(n).style.hide_index()\n",
    "                                                                               \n",
    "        "
   ]
  },
  {
   "cell_type": "code",
   "execution_count": 50,
   "id": "south-sapphire",
   "metadata": {},
   "outputs": [
    {
     "data": {
      "application/vnd.jupyter.widget-view+json": {
       "model_id": "4ebdcef347db478fa8c3d769ab0fd88f",
       "version_major": 2,
       "version_minor": 0
      },
      "text/plain": [
       "interactive(children=(Dropdown(description='sort_column', options=('Overall Rating', 'Bat ppl bonus', 'Bowl pp…"
      ]
     },
     "metadata": {},
     "output_type": "display_data"
    }
   ],
   "source": [
    "interact(manipulate_all_rounders_table,sort_column=columns,team= teams,n=widgets.IntSlider(value=10,min=1,max=len(all_rounders))); "
   ]
  },
  {
   "cell_type": "markdown",
   "id": "solar-hollow",
   "metadata": {},
   "source": [
    "# Uncapped"
   ]
  },
  {
   "cell_type": "code",
   "execution_count": 38,
   "id": "criminal-alert",
   "metadata": {},
   "outputs": [],
   "source": [
    "uncapped = pd.read_csv(\"IPL Auction Player Planning - Uncapped.csv\")"
   ]
  },
  {
   "cell_type": "code",
   "execution_count": 39,
   "id": "ranking-handbook",
   "metadata": {},
   "outputs": [],
   "source": [
    "uncapped.columns = uncapped.columns.str.replace('\\n','')"
   ]
  },
  {
   "cell_type": "code",
   "execution_count": 40,
   "id": "dominican-robinson",
   "metadata": {},
   "outputs": [],
   "source": [
    " def manipulate_uncapped_table(sort_column,team,n):\n",
    "        if team!='ALL':\n",
    "            new_uncapped = uncapped[uncapped['Team']==team]\n",
    "        else:\n",
    "            new_uncapped = uncapped.copy()\n",
    "        \n",
    "        return new_uncapped.sort_values(sort_column,ascending=[False]).head(n).style.hide_index()\n",
    "                                                                               \n",
    "        "
   ]
  },
  {
   "cell_type": "code",
   "execution_count": 51,
   "id": "difficult-proposition",
   "metadata": {},
   "outputs": [
    {
     "data": {
      "application/vnd.jupyter.widget-view+json": {
       "model_id": "9e824791765d4c58ab1077c7d36357e5",
       "version_major": 2,
       "version_minor": 0
      },
      "text/plain": [
       "interactive(children=(Dropdown(description='sort_column', options=('Overall Rating', 'Bat ppl bonus', 'Bowl pp…"
      ]
     },
     "metadata": {},
     "output_type": "display_data"
    }
   ],
   "source": [
    "interact(manipulate_uncapped_table,sort_column=columns,team= teams,n=widgets.IntSlider(value=10,min=1,max=len(uncapped))); "
   ]
  }
 ],
 "metadata": {
  "kernelspec": {
   "display_name": "Python 3",
   "language": "python",
   "name": "python3"
  },
  "language_info": {
   "codemirror_mode": {
    "name": "ipython",
    "version": 3
   },
   "file_extension": ".py",
   "mimetype": "text/x-python",
   "name": "python",
   "nbconvert_exporter": "python",
   "pygments_lexer": "ipython3",
   "version": "3.8.7"
  }
 },
 "nbformat": 4,
 "nbformat_minor": 5
}
